{
 "cells": [
  {
   "cell_type": "code",
   "execution_count": 2,
   "metadata": {},
   "outputs": [
    {
     "name": "stdout",
     "output_type": "stream",
     "text": [
      "Hello World!\n"
     ]
    }
   ],
   "source": [
    "# Выводим надпись с помощью команды print()\n",
    "print (\"Hello World!\")"
   ]
  },
  {
   "cell_type": "code",
   "execution_count": null,
   "metadata": {},
   "outputs": [],
   "source": [
    "print (\"Hello World!\")            # выводим строку\n",
    "input ()                          # Ожидаем нажатия клавиши <Enter>    "
   ]
  },
  {
   "cell_type": "code",
   "execution_count": null,
   "metadata": {},
   "outputs": [],
   "source": [
    "!usr/bin/env python #программа env должна произвести поиск интерпритатора Python в соответствии с настройками путей поиска\n",
    "\n"
   ]
  },
  {
   "cell_type": "code",
   "execution_count": null,
   "metadata": {},
   "outputs": [],
   "source": [
    "# -*- coding: utf-8 -*-\n",
    "import encoding.aliases\n",
    "arr = encoding.aliases.aliases\n",
    "keys = list(arr.keys())\n",
    "keys.sort()\n",
    "for key in keys\n",
    "    print(\"%s => %s\" % (key, arr[key])) \n",
    "    \n",
    "    \n",
    "# представленный код позволяет получить список поддерживаемых кодировок и их псевдонимы"
   ]
  },
  {
   "cell_type": "code",
   "execution_count": 1,
   "metadata": {},
   "outputs": [
    {
     "name": "stdout",
     "output_type": "stream",
     "text": [
      "15\n"
     ]
    }
   ],
   "source": [
    "x = 5; y = 10; z = x + y      #три инструкции на одной строке через точку с запятой, в других случаях точка с запятой\n",
    "print (z)                     #не требуется (код почему-то не работает)\n",
    "\n",
    "# хз, вроде все работает, да и ошибок нет в синтаксисе, через ctrl+enter выполнял?"
   ]
  },
  {
   "cell_type": "code",
   "execution_count": 1,
   "metadata": {},
   "outputs": [
    {
     "name": "stdout",
     "output_type": "stream",
     "text": [
      "1\n",
      "2\n",
      "3\n",
      "4\n",
      "5\n",
      "6\n",
      "7\n",
      "8\n",
      "9\n",
      "10\n",
      "Конец программы\n"
     ]
    }
   ],
   "source": [
    "i = 1\n",
    "while i < 11:\n",
    "    print (i)                 #в Python принято использовать 4 пробела для выделения блока\n",
    "    i += 1\n",
    "print (\"Конец программы\")"
   ]
  },
  {
   "cell_type": "code",
   "execution_count": 2,
   "metadata": {},
   "outputs": [
    {
     "name": "stdout",
     "output_type": "stream",
     "text": [
      "1\n",
      "2\n",
      "3\n",
      "4\n",
      "5\n",
      "6\n",
      "7\n",
      "8\n",
      "9\n",
      "10\n",
      "Конец программы\n"
     ]
    }
   ],
   "source": [
    "for i in range(1, 11): print(i)         #Если блок состоит из одной инструкции, то ее можно не переносить на \n",
    "print(\"Конец программы\")                #следующую строку"
   ]
  },
  {
   "cell_type": "code",
   "execution_count": 8,
   "metadata": {},
   "outputs": [
    {
     "name": "stdout",
     "output_type": "stream",
     "text": [
      "65\n"
     ]
    }
   ],
   "source": [
    "x = 15 + 20 \\\n",
    "    + 30            \n",
    "print(x)            #Если инструкция слишком длинная, ее можно перенести на другую строку\n",
    "                    #с помощью символа /"
   ]
  },
  {
   "cell_type": "code",
   "execution_count": 10,
   "metadata": {},
   "outputs": [
    {
     "name": "stdout",
     "output_type": "stream",
     "text": [
      "65\n"
     ]
    }
   ],
   "source": [
    "x = (15 + 20 +        # Лучше всего переносить выражение на другую строку с помощью круглых скобок, \n",
    "    30)               # т.к. в них можно поместить ЛЮБОЕ выражение   \n",
    "print(x)"
   ]
  },
  {
   "cell_type": "code",
   "execution_count": 11,
   "metadata": {},
   "outputs": [
    {
     "name": "stdout",
     "output_type": "stream",
     "text": [
      "[15, 20, 30]\n"
     ]
    }
   ],
   "source": [
    "arr = [15, 20,      # Пример определения списка с переносом и использованием квадратных скобок\n",
    "       30]\n",
    "print(arr)"
   ]
  },
  {
   "cell_type": "code",
   "execution_count": 13,
   "metadata": {},
   "outputs": [
    {
     "name": "stdout",
     "output_type": "stream",
     "text": [
      "{'x': 15, 'y': 20, 'z': 30}\n"
     ]
    }
   ],
   "source": [
    "arr = {\"x\": 15, \"y\": 20,     # Пример определения словаря с переносом и использованием фигурных скобок\n",
    "       \"z\": 30}\n",
    "print(arr)"
   ]
  },
  {
   "cell_type": "code",
   "execution_count": 6,
   "metadata": {},
   "outputs": [
    {
     "data": {
      "text/plain": [
       "'\\nЗадания по теме:\\n1. Вывести на экран текст \"Silence is golden\".\\n2. Вывести на экран результат вычисления 1+2−4.\\n3. Выведите на экран 10 раз фразу \"You are welcome!\"\\n'"
      ]
     },
     "execution_count": 6,
     "metadata": {},
     "output_type": "execute_result"
    }
   ],
   "source": [
    "\"\"\"\n",
    "Задания по теме:\n",
    "1. Вывести на экран текст \"Silence is golden\".\n",
    "2. Вывести на экран результат вычисления 1+2−4.\n",
    "3. Выведите на экран 10 раз фразу \"You are welcome!\"\n",
    "\"\"\""
   ]
  },
  {
   "cell_type": "code",
   "execution_count": null,
   "metadata": {},
   "outputs": [],
   "source": []
  }
 ],
 "metadata": {
  "kernelspec": {
   "display_name": "Python 3",
   "language": "python",
   "name": "python3"
  },
  "language_info": {
   "codemirror_mode": {
    "name": "ipython",
    "version": 3
   },
   "file_extension": ".py",
   "mimetype": "text/x-python",
   "name": "python",
   "nbconvert_exporter": "python",
   "pygments_lexer": "ipython3",
   "version": "3.7.1"
  }
 },
 "nbformat": 4,
 "nbformat_minor": 2
}
